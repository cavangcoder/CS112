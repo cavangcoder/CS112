{
  "nbformat": 4,
  "nbformat_minor": 0,
  "metadata": {
    "colab": {
      "name": "VQ30_Renewed.ipynb",
      "provenance": []
    },
    "kernelspec": {
      "name": "python3",
      "display_name": "Python 3"
    },
    "language_info": {
      "name": "python"
    }
  },
  "cells": [
    {
      "cell_type": "markdown",
      "metadata": {
        "id": "EeIU3HKxAp_b"
      },
      "source": [
        "#Lớp **CS112.L21**\n",
        "\n",
        "##Nhóm L21.09\n",
        "\n"
      ]
    },
    {
      "cell_type": "markdown",
      "metadata": {
        "id": "Z-6dNL_kAuQQ"
      },
      "source": [
        "#Đề bài:\n",
        "Thành phố quyết định chặt hạ hết n cây xanh hiện có trong thành phố để trồng chỉ một loại cây mới. Nhiệm vụ được giao cho Công ty Cây xanh thành phố. Do hạn chế về thiết bị Công ty chỉ tổ chức được 2 đội đốn hạ cây. Đội I hạ được a cây mỗi ngày, nhưng cứ mối ngày thứ k thì phải nghỉ để bảo dưỡng kỹ thuật, tức là đội I sẽ nghỉ vào các ngày k, 2k, 3k, . . . Đội II hạ được b cây mỗi ngày, nhưng cứ mỗi ngày thứ m thì phải nghỉ để bảo dưỡng kỹ thuật, tức là đội II sẽ nghỉ vào các ngày m, 2m, 3m, . . . Ở ngày nghỉ, số cây chặt hạ của đội sẽ là 0. Cả hai đội bắt đầu công việc vào cùng một ngày và làm việc song song với nhau.\n",
        "\n",
        "Công việc trồng cây mới sẽ bắt đầu sau khi toàn bộ cây cũ đã bị đốn hạ.\n",
        "\n",
        "Hãy xác định sau bao nhiêu ngày thì có thể bắt đầu việc trồng mới cây.\n",
        "\n",
        "**Dữ liệu:** Vào từ thiết bị nhập chuẩn gồm một dòng chứa 5 số nguyên a, k, b, m và n ($1 \\leq a, b \\leq 10^9$, $2 \\leq k, m \\leq 10^{18}$, $1 \\leq n \\leq 10^{18}$).\n",
        "\n",
        "**Kết quả:** Đưa ra thiết bị xuất chuẩn một số nguyên – số ngày tính được."
      ]
    },
    {
      "cell_type": "markdown",
      "metadata": {
        "id": "C928KYIHA5-v"
      },
      "source": [
        "##1. ABSTRACTION\n",
        "Tìm nghiệm x nhỏ nhất thoả mãn bất phương trình bài toán:\n",
        "\n",
        "\n",
        "  $a*(x-x \\div k)+b*(x-x \\div m)\\geq n$\n",
        "\n"
      ]
    },
    {
      "cell_type": "markdown",
      "metadata": {
        "id": "2Wkt1XJAB9T1"
      },
      "source": [
        "#2. Pattern recognization\n",
        "\n",
        "Đặc điểm nhận dạng: Bài toán tìm nghiệm\n",
        "\n",
        "Lớp bài toán: Toán học\n",
        "\n",
        "Kỹ thuật: Tìm kiếm nhị phân"
      ]
    },
    {
      "cell_type": "markdown",
      "metadata": {
        "id": "U8eFiUkYCaFe"
      },
      "source": [
        "#3. Algorithm designed\n",
        "\n",
        "##Ý tưởng:\n",
        "\n",
        "Do phương trình có nghiệm dương duy nhất và tuyến tính nên ta sẽ có 2 hướng tiếp cận:\n",
        "\n",
        ">Tìm công thức tổng quát và giải phương trình với độ phức tạp O(1):\n",
        ">> Ưu điểm : Thực thi nhanh và tổng quát\n",
        "\n",
        ">> Nhược điểm: Tốn thời gian tìm cách giải và xử lí các trường hợp cụ thể\n",
        "\n",
        ">Sử dụng giải thuật tìm kiếm nhị phân:\n",
        ">>Ưu điểm: Code dễ dàng và đảm bảo thực thi hiệu quả trong thời gian cho phép\n",
        "\n",
        ">>Nhược điểm: Cần có kiến thức vững về tìm kiếm nhị phân để không sót trường hợp và thời gian thực hiện không đảm bảo nếu dữ liệu là **RẤT RẤT LỚN**\n",
        "\n",
        "Ta xác định được bất phương trình của bài toán là:\n",
        "\n",
        "$a*(x-x \\div k)+b*(x-x \\div m)\\geq n$\n",
        "\n",
        "Và đây cũng là điều kiện so sánh của tìm kiếm nhị phân\n",
        "\n",
        "Ta có nhận xét:\n",
        "\n",
        "> Nghiệm nhỏ nhất của bất phương trình sẽ không nhỏ hơn 0 và cũng không lớn hơn N\n",
        "\n",
        ">$\\rightarrow$ $[0,n]$ là đoạn có nghiệm của bất phương trình  \n",
        "\n",
        "\n",
        "**Độ phức tạp** của bài toán là $log_2(n)$, không gian lưu trữ là không đáng kể\n",
        "\n",
        "$\\Rightarrow$ Thỏa mãn yêu cầu về độ phức tạp và không gian lưu trữ\n",
        "\n",
        "\n",
        "\n"
      ]
    },
    {
      "cell_type": "markdown",
      "metadata": {
        "id": "L3ShV5kYF0TK"
      },
      "source": [
        "#4. Code"
      ]
    },
    {
      "cell_type": "code",
      "metadata": {
        "id": "v2iYdH0hGBzm"
      },
      "source": [
        "#Nhập dữ liệu\n",
        "a,k,b,m,n = map(int, input().split())\n",
        "\n",
        "#Xác định 2 cận của left và right\n",
        "left = 0 \n",
        "right = n\n",
        "\n",
        "#Xử lí\n",
        "while left < right :\n",
        "    mid = (left + right) >> 1         #Tương đương với \"mid = (left + right) // 2\" nhưng nhanh hơn\n",
        "    sum_a = a * (mid - mid//k)\n",
        "    sum_b = b * (mid - mid//m)\n",
        "\n",
        "    if sum_a+sum_b < n :\n",
        "        left = mid+1\n",
        "    else :\n",
        "        right = mid\n",
        "#In kết quả\n",
        "print(left)"
      ],
      "execution_count": null,
      "outputs": []
    }
  ]
}