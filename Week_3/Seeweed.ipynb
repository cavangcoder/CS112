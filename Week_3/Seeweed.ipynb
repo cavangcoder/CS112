{
  "nbformat": 4,
  "nbformat_minor": 0,
  "metadata": {
    "colab": {
      "name": "Untitled1.ipynb",
      "provenance": [],
      "collapsed_sections": []
    },
    "kernelspec": {
      "name": "python3",
      "display_name": "Python 3"
    },
    "language_info": {
      "name": "python"
    }
  },
  "cells": [
    {
      "cell_type": "markdown",
      "metadata": {
        "id": "39snYLuGmId-"
      },
      "source": [
        "# Lớp **CS112.L21** - Tuần 3\n",
        "## Nhóm L21.09 \n",
        "\n",
        "1.   Phạm Thành Luân\t19520154\t\n",
        "2.\t Huỳnh Văn Hùng\t  19521564\t\n",
        "3.\t Cao Đức Trí\t    19520305\t\n",
        "4.\t Đỗ Minh Trí    \t19520307\t\n",
        "\n",
        " "
      ]
    },
    {
      "cell_type": "markdown",
      "metadata": {
        "id": "enRRYvdipBq5"
      },
      "source": [
        "# Đề bài: Tảo biển\n",
        "Tảo biển sinh sản rất nhanh khi có môi trường thuận lợi với chúng và có những loài còn tiết ra môi trường những chất độc hại.\n",
        "\n",
        "Một loại tảo nâu trong môi trường nước bị ô nhiễm nặng sinh sản theo quy luật sau:\n",
        "\n",
        "Ngày đầu tiên (ngày 0) có n cá thể ở mức 1,\n",
        "Ở mỗi ngày tiếp theo, mỗi cá thể mức i sinh ra i cá thể mức 1, các cá thể mới sinh sẽ sinh sôi, phát triển từ ngày hôm sau.\n",
        "Bản thân các cá thể mức i phát triển thành mức i+1 và chu kỳ phát triển trong ngày chấm dứt.\n",
        "Hãy xác định sau k ngày trong nước biển có bao nhiêu cá thể.\n",
        "\n",
        "***Dữ liệu:*** Vào từ thiết bị nhập chuẩn gồm một dòng chứa 2 số nguyên N và K (1 $\\leq$ N $\\leq$ 1000, 1 $\\leq$ K $\\leq$ $10^{17}$).\n",
        "\n",
        "***Kết quả:*** Đưa ra thiết bị xuất chuẩn một số nguyên – số lượng cá thể  tảo theo mô đun $10^9+7$."
      ]
    },
    {
      "cell_type": "markdown",
      "metadata": {
        "id": "hIrQCU0YpEaI"
      },
      "source": [
        "## 1.ABSTRACTION\n",
        "Cho 2 số nguyên dương N, K ($N\\leq1000$ ,  $K\\leq10^{17}$). \n",
        "\n",
        "Tính (N $\\times fibo(2\\times K+1)$) %  ($10^9+7$)"
      ]
    },
    {
      "cell_type": "markdown",
      "metadata": {
        "id": "CdsyLsvisWCu"
      },
      "source": [
        "#2. PATTERN RECOGNIZATION\n",
        "Đặc điểm nhận dạng: Kết quả bài toán mang tính quy luật, phụ thuộc vào kết quả của ngày trước đó.\n",
        "\n",
        "Lớp bài toán: Toán học\n",
        "\n",
        "Kỹ thuật: \n",
        "\n",
        "*   Nhân ma trận\n",
        "*   Chia để trị\n",
        "\n",
        "\n",
        "\n",
        "\n"
      ]
    },
    {
      "cell_type": "markdown",
      "metadata": {
        "id": "9h05Vm0g6v8T"
      },
      "source": [
        "##3. Algorithm Designed\n",
        "\n",
        "Ý tưởng:\n",
        "\n",
        "\n",
        "*   Số Fibonacci thứ i được tính theo công thức\n",
        "\n",
        "  *   $F[1] = F[2] = 1$\n",
        "  *   $F[i] = F[i-1] + F[i-2]$\n",
        "\n",
        "  $\\Rightarrow $Ta có ma trận hệ số:$ \\begin{bmatrix}0 & 1 \\\\ 1 & 1 \\end{bmatrix}$ và ma trận giá trị cơ sở: $ \\begin{bmatrix} 1 \\\\  1 \\end{bmatrix}$ \n",
        "\n",
        "  $\\Rightarrow  \\begin{bmatrix}0 & 1 \\\\ 1 & 1 \\end{bmatrix}^{k-1} \\times  \\begin{bmatrix} 1 \\\\  1 \\end{bmatrix} = \\begin{bmatrix} f[k] \\\\  f[k+1] \\end{bmatrix} $ \n",
        "\n",
        "Không gian lưu trữ rất nhỏ không đáng kể\n",
        "\n",
        "Độ phức tạp O($2^3*log(K)$)\n",
        "\n",
        "$\\Rightarrow$ Thỏa mản yêu cầu về độ phức tạp và không gian lưu trữ của bài toán\n"
      ]
    },
    {
      "cell_type": "markdown",
      "metadata": {
        "id": "DAFH_TIPBPmM"
      },
      "source": [
        "# 4. Code\n"
      ]
    },
    {
      "cell_type": "code",
      "metadata": {
        "id": "CfR_OZqBBS0Y"
      },
      "source": [
        "# Nhân ma trận\n",
        "def mul(a,b):                           \n",
        "\tres = [[0]*len(b[0]) for u in range(len(a))]\n",
        "\n",
        "\tfor i in range(len(a)) :\n",
        "\t \tfor j in range(len(b[0])) :\n",
        "\t \t\tfor k in range(len(a[0])) :\n",
        "\t \t\t\tres[i][j] = (res[i][j] + a[i][k] * b[k][j]) % 1000000007\n",
        "\n",
        "\treturn res\n",
        "\n",
        "# Tính a^n\n",
        "def pow(a, n):                          \n",
        "\tres = a\n",
        "\tn -= 1\n",
        "\tc = a\n",
        "\twhile n>0:\n",
        "\t\tif ((n&1) == 1):                    # Đồng nghĩa với n % 2 > 0\n",
        "\t\t\tres = mul(res,c)\n",
        "\t\tc = mul(c,c)\n",
        "\t\tn = n>>1                            # Đồng nghĩa với n // 2\n",
        "\treturn res\n",
        "\n",
        "# Nhập dữ liệu\n",
        "n,k = map(int,input().split())\n",
        "\n",
        "#Tạo ma trận hệ số và dãy Fibonaci cơ sở \n",
        "fibo   =  [[1],[1]]\n",
        "matrix = [[0,1],[1,1]]\n",
        "\n",
        "matrix = pow(matrix,k*2)                # tính matrix^(2k) vì ta đã có f[1] và f[2] nên chỉ cần nhân với matrix^(2k) ta sẽ có f[k] và f[k+1]\n",
        "fibo  = mul(matrix,fibo)                # tính matrix * fibo\n",
        "\n",
        "res = (fibo[0][0] * n) % 1000000007     # n * Fibonacci(2*k+1)\n",
        "\n",
        "# in kết quả\n",
        "print(res)"
      ],
      "execution_count": null,
      "outputs": []
    },
    {
      "cell_type": "code",
      "metadata": {
        "id": "9Bjw0I7nBS33"
      },
      "source": [
        ""
      ],
      "execution_count": null,
      "outputs": []
    }
  ]
}