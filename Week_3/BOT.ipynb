{
  "nbformat": 4,
  "nbformat_minor": 0,
  "metadata": {
    "colab": {
      "name": "BOT.ipynb",
      "provenance": [],
      "collapsed_sections": []
    },
    "kernelspec": {
      "name": "python3",
      "display_name": "Python 3"
    },
    "language_info": {
      "name": "python"
    }
  },
  "cells": [
    {
      "cell_type": "markdown",
      "metadata": {
        "id": "pFVyTqW3mlIU"
      },
      "source": [
        "#Lớp **CS112.L21** - Tuần 3\n",
        "\n",
        "##Nhóm L21.09\n",
        "\n"
      ]
    },
    {
      "cell_type": "markdown",
      "metadata": {
        "id": "1j1N8wh_o5QW"
      },
      "source": [
        "#Đề bài: BOT\n",
        "\n",
        "BOT (Built-Operation-Transfer, có nghĩa: Xây dựng-Vận hành-Chuyển giao) là hình thức Chính phủ kêu gọi các công ty bỏ vốn xây dựng trước (Built) thông qua đấu thầu, sau đó khai thác vận hành một thời gian (Operation) và sau cùng là chuyển giao (Transfer) lại cho nhà nước sở tại.\n",
        "\n",
        "Đường cao tốc xuyên quốc gia được xây dựng theo hình thức BOT. Công ty Đa quốc gia Modern Highway trúng thầu, chia toàn bộ con đường thành n đoạn. Theo tính toán của Công ty sau khi chuyển giao con đường cho chính phủ sở tại quản lý thì lãi thu được ở đoạn đường thứ i là ai, ai có thể dương, âm hoặc bằng 0, tức là với từng đoạn con có thể lãi, lỗ hoặc hòa vốn. Từng nhóm các đoạn đường liên tiếp nhau (gọi tắt là khoảng) được chia cho các công ty con thực hiện. Công ty con ASEAM Highway hiện đang có trụ sở ở nước sở tại được quyền chọn trước khoảng tùy ý (có thể là cả con đường).\n",
        "\n",
        "Dĩ nhiên Ban Giám đốc ASEAM Highway muốn chọn khoảng bắt đầu từ đoạn p đến hết đoạn q mang lại lợi nhuận cao nhất hoặc lỗ ít nhất nếu không có khoảng nào cho lãi.\n",
        "\n",
        "Hãy chỉ ra khoảng cần chọn và lãi thu được. Nếu có nhiều cách chọn thì chỉ ra cách chọn có p nhỏ nhất.\n",
        "\n",
        "***Dữ liệu:*** Vào từ thiết bị nhập chuẩn:\n",
        "\n",
        "Dòng đầu tiên chứa số nguyên n ($1 \\leq n \\leq 10^6$),\n",
        "\n",
        "Dòng thứ 2 chứa n số nguyên a1, a2, . . ., an ($0 \\leq |ai| \\leq 10^9$, i = 1 ÷ n).\n",
        "\n",
        "***Kết quả:*** Đưa ra thiết bị xuất chuẩn trên một dòng 2 số nguyên p, q và lãi thu được."
      ]
    },
    {
      "cell_type": "markdown",
      "metadata": {
        "id": "bve-zYAspTFb"
      },
      "source": [
        "##1.ABSTRACTION\n",
        "\n",
        " *Cho số nguyên n ($0<n\\leq 10^6$) và mảng a có n số nguyên ($0 \\leq |ai| \\leq 10^9$, i = 1 ÷ n).*\n",
        "\n",
        "**Tìm dãy con không rỗng liên tiếp có tổng lớn nhất.**\n",
        "\n",
        " *Nếu có nhiều đáp án đưa ra kết quả là mảng con có thứ tự bắt đầu nhỏ nhất.*"
      ]
    },
    {
      "cell_type": "markdown",
      "metadata": {
        "id": "1carRG7ErIUq"
      },
      "source": [
        "#2. Pattern recognization\n",
        "Lớp bài toán: Duyệt\n",
        "\n",
        "Đặc điểm nhận dạng: Dãy con có tổng lớn nhất\n",
        "\n",
        "\n",
        "Kỹ thuật: Tổng tiền tố"
      ]
    },
    {
      "cell_type": "markdown",
      "metadata": {
        "id": "ibEKr4P5uLEb"
      },
      "source": [
        "#3. Alogorithm designed\n",
        "\n",
        "##Ý tưởng:\n",
        "\n",
        "> $\\forall a_i$:   $a_i$ = $a_i$ + $a_{i-1}$  (i = 1 ÷ n) \n",
        "\n",
        ">$\\Rightarrow$ $a_i$ là tổng từ $a_1$ đến $a_i$ \n",
        "\n",
        "> $\\Rightarrow$ $a_i - a_{j-1}$  là tổng từ $a_j$ đến $a_i$ ($j \\leq i$ )\n",
        "\n",
        "> $\\Rightarrow$  Để có dãy con lớn nhất kết thúc tại $a_i$ thì phải tìm $a_{j-1}$ nhỏ nhất ($j \\leq i$ )\n",
        "\n",
        "\n",
        "Không gian lưu trữ tốn kém nhất chỉ là a[n]\n",
        "\n",
        "Độ phức tạp: $O(n)$\n",
        "\n",
        "$\\Rightarrow$ Thỏa mản yêu cầu về độ phức tạp và không gian lưu trữ của bài toán\n",
        "\n",
        " \n",
        "\n",
        "\n",
        "\n",
        "\n",
        "\n",
        "\n"
      ]
    },
    {
      "cell_type": "markdown",
      "metadata": {
        "id": "pVVgqi0-3CrF"
      },
      "source": [
        "#4. Code"
      ]
    },
    {
      "cell_type": "code",
      "metadata": {
        "id": "7-KIMpZ81aE7"
      },
      "source": [
        "# Nhập dữ liệu\n",
        "n = int(input())\n",
        "a = list(map(int,input().split()))\n",
        "a.insert(0,0);                          # mảng đánh dấu từ 1\n",
        "\n",
        "prev = [0,0]                            # vị trí và giá trị a_j min\n",
        "res =[a[1],0,1]                         # Đầu tiên ta chưa có đáp án nên cho a[1] là đáp án \n",
        "                                      \n",
        "# Lời giải\n",
        "for i in range(2,n+1) :\n",
        "\ta[i] += a[i-1]                        # tính tổng tiền tố\n",
        "\ttmp = a[i] - prev[0]                  # đoạn con lớn nhất có thể, kết thúc tại i\n",
        "\t\n",
        "\tif tmp > res[0] :                     # cập nhật đáp án\n",
        "\t\tres = [tmp,prev[1],i] \n",
        "\n",
        "\tif prev[0] > a[i] :                   # tìm a_j min\n",
        "\t\tprev = [a[i],i]\n",
        "\n",
        "# Xuất đáp án\n",
        "print(res[1] + 1, res[2], res[0]);      # res[1] + 1 : vị trí bắt đầu\n",
        "                                        # res[2]     : vị trí kết thúc\n",
        "                                        # res[0]     : tổng của mảng con\n"
      ],
      "execution_count": null,
      "outputs": []
    },
    {
      "cell_type": "code",
      "metadata": {
        "id": "RLiSBmGV1Xpo"
      },
      "source": [
        ""
      ],
      "execution_count": null,
      "outputs": []
    }
  ]
}