{
  "nbformat": 4,
  "nbformat_minor": 0,
  "metadata": {
    "colab": {
      "name": "VQ21_wall.ipynb",
      "provenance": [],
      "collapsed_sections": []
    },
    "kernelspec": {
      "name": "python3",
      "display_name": "Python 3"
    },
    "language_info": {
      "name": "python"
    }
  },
  "cells": [
    {
      "cell_type": "markdown",
      "metadata": {
        "id": "uR1Jn38OQX01"
      },
      "source": [
        "#Lớp **CS112.L21**\n",
        "\n",
        "##Nhóm L21.09\n"
      ]
    },
    {
      "cell_type": "markdown",
      "metadata": {
        "id": "oO6T_LAaQad3"
      },
      "source": [
        "#Đề bài\n",
        "Sau khi dựng xong nhà kho chứa cỏ, dì Poly quyết định dùng m tấm gỗ còn thừa gia cố hàng rào của vườn rau ngăn không cho gà vào phá và giao công việc này cho Tôm và Hấc Phin làm. Nhiệm vụ của hai cậu bé tội nghiệp là đóng thêm vào các tấm ván hàng rào để có hàng rào mới càng cao càng tốt. Nhìn vẽ mặt buồn thiu và lóng ngóng của 2 đứa Jim quyết định sẽ làm giúp. Hàng rào được ghép từ n tấm gỗ cùng độ rộng như nhau và bằng độ rộng của các tấm gỗ còn thừa, tấm thứ i có độ cao ai, i = 1 ÷ n. Tôm và Hấc Phin chỉ phải xếp các tấm còn thừa lên xe ba gác để Jim kéo đi. Các tấm gỗ được xếp thành một chồng, tính từ trên xuống tấm thứ j có độ dài bj, j = 1 ÷ m. Jim kéo xe ba gác đi dọc theo hàng rào. Đến một tấm nào đó muốn gia cố Jim sẽ lấy một tấm gỗ từ xe đóng tiếp lên tấm gỗ trên hàng rào và độ cao mới của tấm này trên hàng rào sẽ là tổng độ cao của tấm cũ và tấm mới đóng thêm. Jim chỉ đóng thêm một tấm mới vào tấm cũ vì muốn đảm bảo độ chắc chắn của hàng rào. Jim có thể lấy tấm trên cùng ở xe hoặc vất ra khỏi xe một số tấm cho đến khi gặp tấm vừa ý. Người ta vẫn nói “Khôn đâu tới trẻ, khỏe đâu tới già!”  Jim đã đứng tuổi và không còn sức để xếp lại các tấm gỗ bị bỏ ra vào xe. Ngoài ra, Jim cũng khá mê tín nên không quay lại lấy những tấm đã loại.\n",
        "\n",
        "Hãy xác định độ cao lớn nhất có thể đạt được của hàng rào sau khi gia cố. Độ cao của hàng rào được tính bằng độ cao tấm gỗ thấp nhất trên hàng rào.\n",
        "\n",
        "**Dữ liệu**: Vào từ thiết bị nhập chuẩn:\n",
        "\n",
        "Dòng đầu tiên chứa số nguyên n ($1 \\leq n \\leq 10^5$)\n",
        "\n",
        "Dòng thứ 2 chứa n số nguyên a1, a2, . . ., an ($1 \\leq a_i \\leq 10^8$, i = 1 ÷ n)\n",
        "\n",
        "Dòng thứ 3 chứa số nguyên m  ($q \\leq m \\leq 10^5)\n",
        "\n",
        "Dòng cuối cùng chứ m số nguyên b1, b2, . . ., bm ($1 \\leq bj \\leq 10^8$, j = 1÷ m).\n",
        "\n",
        "**Kết quả**: Đưa ra thiết bị xuất chuẩn, dòng đầu tiên chứa 2 số nguyên h và k – độ cao lớn nhất có thể của hàng rào và số tấm gỗ đã được đóng thêm, mỗi dòng trong k dòng tiếp theo chứa 2 số nguyên x và y, trong đó x – tấm gỗ trên hàng rào được đóng cao hơn, y – tấm gỗ được dùng để đóng. Đưa ra phương án có các số hiệu tấm ván được chọn là nhỏ nhất nếu tồn tại nhiều cách đóng khác nhau."
      ]
    },
    {
      "cell_type": "markdown",
      "metadata": {
        "id": "7jZA6vnGRr7S"
      },
      "source": [
        "##1. ABSTRACTION\n",
        "\n",
        "**Dựa vào mảng $b$, hãy tìm cách tăng phần tử của mảng $a$ sao cho phần tử nhỏ nhất của $a$ là lớn nhất có thể**\n",
        "\n"
      ]
    },
    {
      "cell_type": "markdown",
      "metadata": {
        "id": "C0-Icuj1Rxaq"
      },
      "source": [
        "#2. Pattern recognization\n",
        "* Đặc điểm nhận dạng : Tìm kiếm kết quả trong khoảng đã được xác định. Kết quả có tính chất tuyến tính\n",
        "\n",
        "* Lớp bài toán: Duyệt + Tìm kiếm nhị phân\n",
        "\n",
        "* Kỹ thuật:\n",
        "  * Tìm kiếm nhị phân\n",
        "  * Duyệt bằng kỹ thuật 2 con trỏ"
      ]
    },
    {
      "cell_type": "markdown",
      "metadata": {
        "id": "RMOvf1gzSFeE"
      },
      "source": [
        "#3. Algorithm designed\n",
        "\n",
        "##Nhận xét:\n",
        "* Kết quả nằm trong khoảng $[min(a), min(a) + max(b)]$\n",
        "\n",
        "## Ý tưởng:\n",
        "* Dùng tìm kiếm nhị phân để xác định độ cao có thể của hàng rào\n",
        "* Mỗi khi duyệt kiểm tra xem độ cao h có khả thi không ta sử dụng kĩ thuật 2 con trỏ\n",
        "* Sau khi có kết quả ta duyệt lại trên kết quả để truy vết đáp án \n"
      ]
    },
    {
      "cell_type": "markdown",
      "metadata": {
        "id": "Fp2oCMLJSHLT"
      },
      "source": [
        "\n",
        "#4.CODE\n"
      ]
    },
    {
      "cell_type": "code",
      "metadata": {
        "id": "mef2x11wiyfT"
      },
      "source": [
        "n = int(input())\n",
        "a = list(map(int,input().split()))\n",
        "\n",
        "m = int(input())\n",
        "b = list(map(int,input().split()))\n",
        "\n",
        "left = high = min(a)\n",
        "right = min(a) + max(b)\n",
        "count = 0\n",
        "\n",
        "while left <= right :\n",
        "    mid = (left + right) >> 1\n",
        "    check = True\n",
        "    j  = cnt = 0\n",
        "\n",
        "    for i in range(n):\n",
        "        if a[i] >= mid : continue\n",
        "        \n",
        "        while j < m and a[i] + b[j] < mid :     # Kỹ thuật 2 con trỏ để tìm ván gỗ thừa ghép vào hàng rào\n",
        "            j += 1\n",
        "        \n",
        "        if j >= m : \n",
        "            check = False\n",
        "            break\n",
        "        j += 1\n",
        "        cnt += 1\n",
        "\n",
        "    if check :\n",
        "        high  = mid\n",
        "        left  = mid + 1\n",
        "        count = cnt\n",
        "    else :\n",
        "        right = mid - 1;\n",
        "\n",
        "print(high,count)\n",
        "j = 0\n",
        "for i in range(n) :                             # Truy vết kết quả\n",
        "    if a[i] >= high : continue\n",
        "    \n",
        "    while j < m and a[i] + b[j] < high :\n",
        "        j += 1\n",
        "    \n",
        "    if j >= m : \n",
        "        check = False\n",
        "        break\n",
        "    print(i+1,j+1)\n",
        "    j += 1\n"
      ],
      "execution_count": null,
      "outputs": []
    }
  ]
}