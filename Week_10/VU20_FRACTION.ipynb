{
  "nbformat": 4,
  "nbformat_minor": 0,
  "metadata": {
    "colab": {
      "name": "VU20_FRACTION.ipynb",
      "provenance": [],
      "collapsed_sections": []
    },
    "kernelspec": {
      "name": "python3",
      "display_name": "Python 3"
    },
    "language_info": {
      "name": "python"
    }
  },
  "cells": [
    {
      "cell_type": "markdown",
      "metadata": {
        "id": "2uD7zU1oCYX0"
      },
      "source": [
        "# Lớp **CS112.L21** - Tuần 10\n",
        "## Nhóm L21.09 "
      ]
    },
    {
      "cell_type": "markdown",
      "metadata": {
        "id": "kZPSIGFvDjS5"
      },
      "source": [
        "# Đề bài: Phân số\n",
        "Cho 2 phân số đúng và tối giản $\\frac{a}{b},\\frac{c}{d}$ . Mỗi phép biến đổi là tăng a và b lên 1, sau đó giản ước phân số nhận được.\n",
        "\n",
        "Hãy xác định sau bao nhiêu bước biến đổi từ phân số thứ nhất ban đầu nhận được phân số thứ 2 đã cho.\n",
        "\n",
        "***Dữ liệu:***  Vào từ thiết bị nhập chuẩn gồm 4 dòng, mỗi dòng chứa 1 số nguyên $a, b, c, d, 0 < a < b \\leq 10^5$, $ 0 < c < d \\leq 10^5$, a và b nguyên tố cùng nhau, c và d nguyên tố cùng nhau $\\frac{a}{b} \\neq  \\frac{c}{d}$.\n",
        "\n",
        "***Kết quả:*** Đưa ra thiết bị xuất chuẩn số 0 nếu không có cách biến đổi hoặc một số nguyên – số lượng phép biến đổi."
      ]
    },
    {
      "cell_type": "markdown",
      "metadata": {
        "id": "xtqh852NLItt"
      },
      "source": [
        "## 1.ABSTRACTION\n",
        "Cho hai phân số tối giản $\\frac{a}{b},\\frac{c}{d}$, trong đó  $0 < a < b \\leq 10^5$ và $ 0 < c < d \\leq 10^5$.\n",
        "\n",
        "**Đếm số phép biến đổi để phân số $\\frac{a}{b}$ thành phân số $\\frac{c}{d}$ theo quy ước đã cho.**\n"
      ]
    },
    {
      "cell_type": "markdown",
      "metadata": {
        "id": "klANg8drQN93"
      },
      "source": [
        "#2. PATTERN RECOGNIZATION\n",
        "Đặc điểm nhận dạng: Rút gọn phân số\n",
        "\n",
        "Lớp bài toán: Toán học\n",
        "\n",
        "Kỹ thuật: \n",
        "\n",
        "*   Thuật toán Euclid"
      ]
    },
    {
      "cell_type": "markdown",
      "metadata": {
        "id": "wJakOGosS9TC"
      },
      "source": [
        "##3. Algorithm Designed\n",
        "Nhận xét: phép biến đổi trên sẽ khiến phân số sẽ tiến dần về 1 khi a < b\n",
        "\n",
        "Thuật toán:\n",
        "\n",
        "* Trong khi $\\frac{a}{b} < \\frac{c}{d}$:\n",
        " \n",
        "  * Tăng a và b lên 1 đơn vị\n",
        "  * Đưa về phân số tối giản\n",
        "  \n",
        "Độ phức tạp của thuật toán là O(n)."
      ]
    },
    {
      "cell_type": "markdown",
      "metadata": {
        "id": "vihJz4A3d2YZ"
      },
      "source": [
        "# 4. Code"
      ]
    },
    {
      "cell_type": "code",
      "metadata": {
        "id": "1PsKfnMVVl4Z",
        "colab": {
          "base_uri": "https://localhost:8080/"
        },
        "outputId": "0bad92bb-cd62-4708-8432-8bcfb969721a"
      },
      "source": [
        "def gcd(a,b) :                      # Tìm ước chung lớn nhất\n",
        "    while b :\n",
        "        a, b = b, a % b\n",
        "    return a\n",
        "\n",
        "a=int(input())\n",
        "b=int(input())\n",
        "c=int(input())\n",
        "d=int(input())\n",
        "\n",
        "ans = 0\n",
        "\n",
        "while a/b < c/d  :\n",
        "    a += 1\n",
        "    b += 1\n",
        "    ans += 1\n",
        "    _gcd = gcd(a,b)                 # Lấy ước chung của tử và mẫu\n",
        "    a //= _gcd                      # Đơn giản tử số\n",
        "    b //= _gcd                      # Đơn giản mẫu số\n",
        "    \n",
        "if (a/b > c/d) : \n",
        "    ans = 0\n",
        "\n",
        "print(ans)"
      ],
      "execution_count": null,
      "outputs": [
        {
          "output_type": "stream",
          "text": [
            "1\n",
            "6\n",
            "2\n",
            "3\n",
            "5\n"
          ],
          "name": "stdout"
        }
      ]
    }
  ]
}