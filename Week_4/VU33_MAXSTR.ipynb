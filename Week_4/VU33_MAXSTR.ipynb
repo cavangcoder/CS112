{
  "nbformat": 4,
  "nbformat_minor": 0,
  "metadata": {
    "colab": {
      "name": "Khóa_số.ipynb",
      "provenance": [],
      "collapsed_sections": [
        "suS2-S2lBt5h",
        "wNz7lDIa6hC6",
        "YAI6aNBnBlkl"
      ]
    },
    "kernelspec": {
      "name": "python3",
      "display_name": "Python 3"
    },
    "language_info": {
      "name": "python"
    }
  },
  "cells": [
    {
      "cell_type": "markdown",
      "metadata": {
        "id": "suS2-S2lBt5h"
      },
      "source": [
        "# Lớp **CS112.L21** - Tuần 4\n",
        "## Nhóm L21.09 \n",
        "\n",
        " "
      ]
    },
    {
      "cell_type": "markdown",
      "metadata": {
        "id": "xjTVv1GB5wCL"
      },
      "source": [
        "# Đề bài: Khóa số\n",
        "Để tăng độ an toàn chống hiện tượng cướp ngân hàng ngày càng phổ biến người ta dùng khóa số với mã mở khóa đơn giản nhưng rất hiệu quả. Trên cửa ra vào hiển thị một xâu khá dài các ký tự số. Các chữ số có thể di chuyển đổi chổ cho nhau hoặc bị xóa. Muốn mở khóa người ta phải di chuyển các chữ số và trong trường hợp cần thiết – xóa vài chữ số để nhận được xâu lớn nhất thỏa mãn điều kiện đã cài đặt. Điều kiện này được thay đổi thường xuyên. Hôm nay điều kiện đó là “Số nhận được phải chia hết cho 3”. Số nhận được có thể bắt đầu bằng các chữ số 0. Xâu “000” sẽ lớn hơn xâu “00”.\n",
        "\n",
        "Hãy xác định khóa mở cửa.\n",
        "\n",
        "***Dữ liệu:*** Vào từ thiết bị nhập chuẩn gồm một xâu ký tự số có độ dài lớn hơn 2 và không vượt quá $10^5$.\n",
        "\n",
        "***Kết quả:*** Đưa ra thiết bị xuất chuẩn xâu khóa mở cửa."
      ]
    },
    {
      "cell_type": "markdown",
      "metadata": {
        "id": "wNz7lDIa6hC6"
      },
      "source": [
        "## 1.ABSTRACTION\n",
        "*Cho chuỗi số $S$ ($2\\leq|S|\\leq10^5$).*\n",
        "\n",
        "**Tìm cách di chuyển hoặc xóa một vài phần tử để được chuỗi số lớn nhất chia hết cho 3.**"
      ]
    },
    {
      "cell_type": "markdown",
      "metadata": {
        "id": "3FeJkoQ59PBk"
      },
      "source": [
        "#2. PATTERN RECOGNIZATION\n",
        "\n",
        "Lớp bài toán: Duyệt tìm kiếm\n",
        "\n",
        "Đặc điểm nhận dạng: Tìm kiếm phần tử thỏa yêu cầu\n",
        "\n",
        "Kĩ thuật: Mảng tần suất"
      ]
    },
    {
      "cell_type": "markdown",
      "metadata": {
        "id": "YAI6aNBnBlkl"
      },
      "source": [
        "##3. Algorithm Designed\n",
        "\n",
        "Ý tưởng:\n",
        "\n",
        "* Gọi mod = $[\\sum\\limits_{i=0}^{|S|-1}int(S[i]) ]$ % 3  \n",
        "\n",
        "* Gọi $a[0..9]$ là mảng tần suất chứa số lần xuất hiện của các phần tử trong chuỗi $S$ \n",
        "\n",
        "* Nếu mod $\\ne$ 0:\n",
        "  * $\\forall i$  = 0 ÷ 9: nếu $i % 3 == mod$ và $a[i]$ > 0 thì giảm $a[i]$ đi 1 và dừng quá trình xử lí\n",
        "  * Ngược lại,  $\\forall$ i = 0 ÷ 9 : nếu ($i$ % 3)  $\\ne$ mod.\n",
        "    * $\\forall i$ = 0 ÷ 9: ($i$ % 3) $\\ne$ 0 và a[i] $>$ 0\n",
        "      *  $a[i]$ = $a[i]$ - 1 (Chỉ cần giảm đúng 2 lần là kết thúc quá trình xử lí)\n",
        "* Dựa vào $a[0..9]$ xuất ra số lượng kí tự tương ứng theo thứ tự giảm dần\n",
        "\n",
        "$\\Rightarrow$ Quá trình xử lí có độ phức tạp $O(1)$\n",
        "\n",
        "$\\Rightarrow$ Độ phức tạp của bài toán chỉ làm hàm nhập xuất $O(|S|)$"
      ]
    },
    {
      "cell_type": "markdown",
      "metadata": {
        "id": "XovCWctyBDHz"
      },
      "source": [
        "# 4. Code"
      ]
    },
    {
      "cell_type": "code",
      "metadata": {
        "id": "sJPBPD3wBMww"
      },
      "source": [
        "s = input()\n",
        "mod = 0\n",
        "a = [0] * 10 \n",
        "# Tạo mảng tần suất tính số lần xuất hiện của các chữ số trong chuỗi và số dư khi chia tổng các chữ số cho 3\n",
        "for v in s :\n",
        "    num = ord(v)-ord(\"0\")\n",
        "    if num<10 and num > -1:\n",
        "        mod = (mod + num) % 3\n",
        "        a[num] += 1\n",
        "# Xử lí trường hợp số đó không chia hết cho 3\n",
        "if (mod != 0) :\n",
        "    cnt_erase = 2\n",
        "    # Trường hợp trong chuỗi có phần tử đồng dư với mod theo module 3\n",
        "    for i in range(10) :\n",
        "        if i % 3 == mod and a[i] > 0 :\n",
        "            cnt_erase = 0\n",
        "            a[i] -= 1\n",
        "            break\n",
        "    # Trường hợp trong chuỗi không có phần tử nào đồng dư với mod theo module 3\n",
        "    i = 1\n",
        "    while cnt_erase > 0 and i < 10 :\n",
        "        while i % 3 != 0 and a[i] > 0 :\n",
        "            a[i] -= 1\n",
        "            cnt_erase -= 1\n",
        "            if  cnt_erase < 1 : break\n",
        "        i += 1\n",
        "# Xuất ra chuỗi cần tìm\n",
        "ans = []\n",
        "for i in range(10)[::-1] :\n",
        "    if a[i] > 0 :\n",
        "        ans = ans + ([i] * (a[i])) \n",
        "\n",
        "print(*ans,sep=\"\")"
      ],
      "execution_count": null,
      "outputs": []
    }
  ]
}