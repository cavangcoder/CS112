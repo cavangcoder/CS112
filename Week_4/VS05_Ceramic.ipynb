{
  "nbformat": 4,
  "nbformat_minor": 0,
  "metadata": {
    "colab": {
      "name": "VS05_Ceramic.ipynb",
      "provenance": [],
      "toc_visible": true
    },
    "kernelspec": {
      "name": "python3",
      "display_name": "Python 3"
    },
    "language_info": {
      "name": "python"
    }
  },
  "cells": [
    {
      "cell_type": "markdown",
      "metadata": {
        "id": "cWOkjdzF6ge-"
      },
      "source": [
        "#Lớp **CS112.L21**\n",
        "\n",
        "##Nhóm L21.09\n",
        "\n"
      ]
    },
    {
      "cell_type": "markdown",
      "metadata": {
        "id": "_LWNJkpv6lgN"
      },
      "source": [
        "#Đề bài\n",
        "Sau khi bê tông hóa đê chống lụt, thành phố quyết định cho khảm lên tường bê tông của đê tranh ghép tạo bởi các mảnh gốm sứ lấy từ các lò gốm nổi tiếng trong nước. Toàn bộ con đê được chia thành n phần có độ rộng giống nhau, mỗi phần gọi là một lô. Mỗi bức tranh khảm trên đó đều phải có độ rộng giống nhau, tức là bao gồm một số như nhau các lô liên tiếp và toàn bộ tường phải được phủ kín tranh từ đầu đến cuối, mỗi lô phải được tạo màu chủ đạo (gọi là màu của lô) từ một loại gốm đặc trưng lấy từ một lò gốm nào đó trong nước, ví dụ gốm màu xanh Cô ban từ lò gốm Ánh Hồng Quảng Ninh, gốm da lươn – từ Bát Tràng Hà Nội, gốm mộc hồng nhạt – từ Biên Hòa Đồng Nai, . . . Các loại gốm này được đánh số từ 1 đến 50 000.\n",
        "\n",
        "Hướng dẫn viên du lịch giới thiệu với khách tham quan là có 2 nhóm nghệ nhân được giao việc tạo hình và khảm tranh. Với mỗi nhóm các bức tranh của đều được đặc trưng bởi dãy số (c1, c2, . . ., ck), trong đó k là độ rộng của tranh, ci – màu của lô, i = 1 ÷ k, các bức tranh khác nhau có thể khác nhau ở trình tự xuất hiện màu của các lô, ví dụ với dãy số đặc trưng (2, 6, 2, 9), trình tự màu trong tranh có thể là (9, 2, 2, 6) hoặc (6, 9, 2, 2) nhưng không thể là (6, 9, 2, 3). Dãy đặc trưng của 2 nhóm là khác nhau, tức là không thể bằng phép hoán vị trình tự màu của lô để đưa một dãy về dãy kia. Các bức tranh được ghép với nhau rất hài hòa và khách tham quan không nhận biết được sự chuyển tiếp từ tranh này sang tranh khác. Tuy vậy nhiều khách tham quan vẫn muốn biết có bao nhiêu bức tranh đã tạo ra và trong đó số bức tranh của mỗi nhóm là bao nhiêu.\n",
        "\n",
        "Hãy xác định số lượng tranh có thể có và số lượng tranh mỗi nhóm đã làm. biết rằng nhóm nào cũng có tranh của mình.\n",
        "\n",
        "**Dữ liệu:**\n",
        "\n",
        "Dòng đầu tiên chứa một số nguyên n – số lượng lô của con đê ($2 \\leq n \\leq 105$).\n",
        "\n",
        "Dòng thứ 2 chứa n số nguyên a1, a2, . . ., an – màu của các lô ($1 \\leq ai \\leq 50 000$, i = 1 ÷ n).\n",
        "\n",
        "**Kết quả**: dòng đầu tiên chứa số nguyên m – số lượng phương án khác nhau chia con đường thành các bức tranh, nếu không có cách phân chia để đảm bảo phân biệt tranh của đúng 2 nhóm thì đưa ra số -1. Nếu có cách phân biệt thì ở mỗi dòng tiếp theo đưa ra 3 số nguyên k, p và q – độ rộng bức tranh, số tranh do nhóm 1 thực hiện và số tranh do nhóm 2 thực hiện, thông tin đưa ra theo thứ tự tăng dần của k và ở mỗi dòng có $p \\ge q > 0$."
      ]
    },
    {
      "cell_type": "markdown",
      "metadata": {
        "id": "ha5alA4q7_AE"
      },
      "source": [
        "##1. ABSTRACTION\n"
      ]
    },
    {
      "cell_type": "markdown",
      "metadata": {
        "id": "Rj0xzURkJq5r"
      },
      "source": [
        "#2. Pattern recognization\n",
        "Kỹ thuật:\n",
        "\n",
        "1.   Hashing\n",
        "2.   Tổng tiền tố\n",
        "\n"
      ]
    },
    {
      "cell_type": "markdown",
      "metadata": {
        "id": "HfE0a_ilJpdi"
      },
      "source": [
        "#3. Algorithm designed\n",
        "\n",
        "##Ý tưởng:"
      ]
    },
    {
      "cell_type": "markdown",
      "metadata": {
        "id": "hJ-bvmjyHxBe"
      },
      "source": [
        "#4.CODE"
      ]
    },
    {
      "cell_type": "code",
      "metadata": {
        "id": "w6MIB9IYHgX4"
      },
      "source": [
        "n = int(input())\n",
        "a = list(map(int,input().split()))\n",
        "\n",
        "a.insert(0,0)\n",
        "\n",
        "base = [1] * (50021)\n",
        "\n",
        "for i in range(50021)[1::] :\n",
        "    base[i] = (base[i-1] * 2017) % 1000000097 \n",
        "\n",
        "for i in range(n+1)[1::] :\n",
        "    a[i] = a[i-1] + base[a[i]]\n",
        "\n",
        "ans = []\n",
        "for k in range(n//2 + 1)[1::] :\n",
        "    if n % k == 0 :\n",
        "        cnt = 0\n",
        "        tmp = [[a[k],1],[0,0]]\n",
        "        for i in range(n+1)[2*k::k] :\n",
        "            if a[i] - a[i-k] == tmp[0][0] :\n",
        "                tmp[0][1] += 1\n",
        "                continue\n",
        "            if cnt < 1 : \n",
        "                tmp[1][0] = a[i] - a[i-k]\n",
        "                tmp[1][1] = 1\n",
        "                cnt = 1\n",
        "                continue\n",
        "            if a[i] - a[i-k] == tmp[1][0] :\n",
        "                tmp[1][1] += 1\n",
        "            else :\n",
        "                cnt = 2\n",
        "                break\n",
        "        if cnt == 1 :\n",
        "            p = max(tmp[0][1],tmp[1][1])\n",
        "            q = min(tmp[0][1],tmp[1][1])\n",
        "            ans.append([k,p,q])\n",
        "        # if cnt == 0 and k*tmp[0][1] == n :\n",
        "        #     p = max(n//p)\n",
        "if (len(ans) < 1) :\n",
        "    print(\"-1\")\n",
        "else :\n",
        "    print(len(ans))\n",
        "    for v in ans :\n",
        "        print(v[0],v[1],v[2])"
      ],
      "execution_count": null,
      "outputs": []
    }
  ]
}