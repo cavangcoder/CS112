{
  "nbformat": 4,
  "nbformat_minor": 0,
  "metadata": {
    "colab": {
      "name": "H_Index.ipynb",
      "provenance": [],
      "collapsed_sections": []
    },
    "kernelspec": {
      "name": "python3",
      "display_name": "Python 3"
    },
    "language_info": {
      "name": "python"
    }
  },
  "cells": [
    {
      "cell_type": "markdown",
      "metadata": {
        "id": "eQPuDcJy5l_5"
      },
      "source": [
        "# Lớp **CS112.L21** - Tuần 4\n",
        "## Nhóm L21.09 \n",
        "\n",
        " "
      ]
    },
    {
      "cell_type": "markdown",
      "metadata": {
        "id": "4QXR_dVJ5pcb"
      },
      "source": [
        "# Đề bài: H_Index\n",
        "\n",
        "Làm thế nào để đánh giá sự thành công của một nhà khoa học?  Dựa vào số bài báo được công bố hay dựa vào số lần một bài báo được trích dẫn tới ở công trình của những người khác? Cả hai tham số đó đều quan trọng.\n",
        "\n",
        "Một bài báo có điểm số trích dẫn là c nếu nó được trích dẫn tới c lần trong các công trình của những nhà khoa học khác. Một trong số các cách đánh giá sự thành công của một nhà khoa học là tính chỉ số ảnh hưởng ***H_Index*** dựa trên sự kết hợp giữa số lượng bài báo và chỉ số trích dẫn của các bài báo đó.\n",
        "\n",
        "Chỉ số ***H_Index*** của một nhà khoa học bằng k lớn nhất nếu người đó có k bài báo, mỗi bài có điểm số trích dẫn không nhỏ hơn k. Ví dụ, một người có 10 bài báo, mỗi bài báo được trích dẫn không dưới 10 lần thì ***H_Index*** của người đó ít nhất là bằng 10.\n",
        "\n",
        "Một người có n bài báo, bài báo thứ i có điểm trích dẫn là $c_i$, i = 1 ÷ n. Hãy xác định ***H_Index*** của người đó.\n",
        "\n",
        "***Dữ liệu***: Vào từ thiết bị nhập chuẩn:\n",
        "\n",
        "Dòng đầu tiên chứa một số nguyên n ($1 \\leq$ n $\\leq$ $5*10^5$),\n",
        "Dòng thứ 2 chứa n số nguyên $c_1, c_2, . . ., c_n$ ($0 \\leq c_i \\leq 10^6$, $i = 1$ ÷ $n$).\n",
        "\n",
        "***Kết quả***: Đưa ra thiết bị xuất chuẩn một số nguyên – ***H_Index*** tìm được."
      ]
    },
    {
      "cell_type": "markdown",
      "metadata": {
        "id": "QuWSAC3v6-Vl"
      },
      "source": [
        "## 1.ABSTRACTION\n",
        "Cho mảng c có n phần tử ($1 \\leq n \\leq $ $5*10^5$ $, 0 \\leq c_i \\leq 10^6, i = 1$ ÷ $n$).\n",
        "\n",
        "**Tìm độ dài k của dãy con không liên tiếp dài nhất thuộc c sao cho mỗi phần tử thuộc dãy con không bé hơn k**"
      ]
    },
    {
      "cell_type": "markdown",
      "metadata": {
        "id": "uFzbgZvt94Gx"
      },
      "source": [
        "#2. PATTERN RECOGNIZATION\n",
        "Lớp bài toán: Duyệt + sắp xếp.\n",
        "\n",
        "Đặc điểm nhận dạng: \n",
        "\n",
        "* Duyệt để tìm kiếm giá trị yêu cầu"
      ]
    },
    {
      "cell_type": "markdown",
      "metadata": {
        "id": "A9sfJLkYBaE0"
      },
      "source": [
        "##3. Algorithm Designed\n",
        "Ý tưởng:\n",
        "\n",
        "Sắp xếp dãy $c$ giảm dần.\n",
        "\n",
        "$\\forall c_i$, $i$ $=$ $0$ ÷ $(n-1)$\n",
        "\n",
        "> If $c_i\\le i $ then\n",
        "\n",
        ">> $i$ là đáp án cần tìm\n",
        "\n",
        "\n",
        "\n",
        "Nếu sau khi duyệt không tìm được đáp án thì kết quả là $n$\n",
        "\n",
        "Độ phức tạp O$(nlog(n))$\n",
        "\n",
        "$\\Rightarrow$ Thỏa yêu cầu về độ phức tạp\n"
      ]
    },
    {
      "cell_type": "markdown",
      "metadata": {
        "id": "vFm8sduNDsg_"
      },
      "source": [
        "##4. Code"
      ]
    },
    {
      "cell_type": "code",
      "metadata": {
        "id": "mbtUdGl4D9hD"
      },
      "source": [
        "#Nhập dữ liệu:\n",
        "n  = int(input()) \n",
        "a = list(map(int,input().split()))\n",
        "\n",
        "#Sắp xếp giảm dần\n",
        "a.sort(reverse=True)\n",
        "\n",
        "# Duyệt tìm đáp án:\n",
        "for i in range(n) :\n",
        "\tif a[i] <= i :   \n",
        "\t\tprint(i)        # Do mảng đánh dấu từ 0 nên i là kết quả chứ không phải i-1\n",
        "\t\texit()\n",
        "  \n",
        "print(n)"
      ],
      "execution_count": null,
      "outputs": []
    }
  ]
}