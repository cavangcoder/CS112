{
  "nbformat": 4,
  "nbformat_minor": 0,
  "metadata": {
    "colab": {
      "name": "Số_nguyên_mới.ipynb",
      "provenance": [],
      "collapsed_sections": []
    },
    "kernelspec": {
      "name": "python3",
      "display_name": "Python 3"
    },
    "language_info": {
      "name": "python"
    }
  },
  "cells": [
    {
      "cell_type": "markdown",
      "metadata": {
        "id": "2uD7zU1oCYX0"
      },
      "source": [
        "# Lớp **CS112.L21** - Tuần 6\n",
        "## Nhóm L21.09 "
      ]
    },
    {
      "cell_type": "markdown",
      "metadata": {
        "id": "kZPSIGFvDjS5"
      },
      "source": [
        "# Đề bài: Số nguyên mới\n",
        "Cho số nguyên dương n có không quá 100 chữ số. Hãy xác định số nguyên lớn nhất m chia hết cho 3 và khác n ở đúng một chữ số.\n",
        "\n",
        "Ví dụ: n = 123 thì m = 723.\n",
        "\n",
        "***Dữ liệu:*** Vào từ thiết bị nhập chuẩn gồm một dòng chứa số nguyên n có không quá 100 chữ số và không chứa các số 0 không có nghĩa.\n",
        "\n",
        "***Kết quả:*** Đưa ra thiết bị xuất chuẩn số nguyên m tìm được."
      ]
    },
    {
      "cell_type": "markdown",
      "metadata": {
        "id": "xtqh852NLItt"
      },
      "source": [
        "## 1.ABSTRACTION\n",
        "*Cho số nguyên dương n có không quá 100 chữ số.*\n",
        "\n",
        "**Tìm số lớn nhất chia hết cho 3 và khác n đúng một chữ số.**\n"
      ]
    },
    {
      "cell_type": "markdown",
      "metadata": {
        "id": "klANg8drQN93"
      },
      "source": [
        "#2. PATTERN RECOGNIZATION\n",
        "Đặc điểm nhận dạng: Bài toán duyệt chuỗi, tính chia hết cho 3 của một số tự nhiên.\n",
        "\n",
        "Lớp bài toán: Duyệt chuỗi\n",
        "\n",
        "Kỹ thuật: \n",
        "\n",
        "*   Duyệt\n",
        "*   Sử dụng tính chia hết cho 3 của một số tự nhiên.\n",
        "*   Bảng phương án"
      ]
    },
    {
      "cell_type": "markdown",
      "metadata": {
        "id": "wJakOGosS9TC"
      },
      "source": [
        "##3. Algorithm Designed\n",
        "\n",
        "\n",
        "Nhận xét:\n",
        "\n",
        "> Nếu kết quả lớn hơn n:\n",
        ">> Vị trị của **CHỮ SỐ KHÁC** phải nằm ở vị trí trái nhất có thể\n",
        ">> Các số thay thế chỉ có thể là: '7', '8', '9'\n",
        "\n",
        "> Nếu kết quả nhỏ hơn n:\n",
        ">> Vị trí của **CHỮ SỐ KHÁC** nằm ở vị trí cuối cùng\n",
        "\n",
        ">> Các số thay thế chỉ có thể là: '4', '5', '6', '7'\n",
        "\n",
        "Ý tưởng:\n",
        "\n",
        "Độ phức tạp của thuật toán là O($n$)\n"
      ]
    },
    {
      "cell_type": "markdown",
      "metadata": {
        "id": "vihJz4A3d2YZ"
      },
      "source": [
        "# 4. Code"
      ]
    },
    {
      "cell_type": "code",
      "metadata": {
        "id": "1PsKfnMVVl4Z"
      },
      "source": [
        "s = input()\n",
        "replace =[ ['9','7','8'], ['6','4','5']]                  # replace là bảng phương án các chữ số cần thay thế\n",
        "\n",
        "mod = 0\n",
        "for c in s :\n",
        "    mod = (mod + ord(c) - 48) % 3                         # tính số dư khi chia cho 3 của s\n",
        "for i in range(len(s)) :                  \n",
        "    i_mod =  (ord(s[i]) - 48)  % 3 \n",
        "    replace_id = (3- (mod - i_mod)) % 3                   # tính số dư cần phải có tại vị trí i của chuỗi\n",
        "    if s[i] >= replace[0][replace_id] : continue          # Nếu s[i] lớn hơn số cần phải thay thì xét phần tử tiếp theo của chuỗi\n",
        "    ans = s[:i] + replace[0][replace_id] + s[i+1:]        # Thay s[i] bằng 9, 8 hoặc 7 tương ứng với số dư đã tính toán\n",
        "    print(ans)                                            \n",
        "    exit()                                                # Thay thế xong ta in kết quả và kết thúc chương trình mà không cần quan tâm gì nữa\n",
        "\n",
        "i_mod =  (ord(s[-1]) - 48)  % 3                           # Xét phần tử cuối cùng của chuỗi\n",
        "replace_id = (3- (mod - i_mod)) % 3                       # tính số dư cần phải có tại vị trí cuối chuỗi\n",
        "flag = (s[-1] != replace[1][replace_id])                  # Nếu s[i] khác số cần phải thay thế thì thay s[i] bằng 6,5,4 tương ứng với số dư đã tính toán\n",
        "                                                          # Nếu s[i] bằng số cần phải thay thế thì thay s[i] bằng 9, 8 hoặc 7 tương ứng với số dư đã tính toán\n",
        "ans = s[:-1] + replace[flag][replace_id]                  \n",
        "print(ans)"
      ],
      "execution_count": null,
      "outputs": []
    }
  ]
}